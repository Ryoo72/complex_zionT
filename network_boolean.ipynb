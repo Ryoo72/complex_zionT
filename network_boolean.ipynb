{
 "cells": [
  {
   "cell_type": "code",
   "execution_count": 26,
   "metadata": {
    "collapsed": false
   },
   "outputs": [],
   "source": [
    "# neural network of many complex valued neurons in 3 layers\n",
    "import numpy"
   ]
  },
  {
   "cell_type": "code",
   "execution_count": 27,
   "metadata": {
    "collapsed": false
   },
   "outputs": [],
   "source": [
    "class neuralNetwork:\n",
    "    \n",
    "    def __init__(self, inputnodes, hiddennodes, outputnodes, cats, periods):\n",
    "        # set number of nodes in each input, hidden, output layer\n",
    "        self.inodes = inputnodes + 1 # increament for bias node\n",
    "        self.hnodes = hiddennodes\n",
    "        self.onodes = outputnodes\n",
    "        \n",
    "        # link weight matrices, wih and who\n",
    "        # weights inside the arrays are w_i_j, where link is from node i to node j in the next layer\n",
    "        # w11 w21\n",
    "        # w12 w22 etc \n",
    "        self.wih = numpy.random.uniform(-1.0, 1.0, (self.hnodes, self.inodes))\n",
    "        self.wih = numpy.array(self.wih, ndmin=2, dtype='complex128')\n",
    "        self.wih += 1j * numpy.random.uniform(-1.0, 1.0, (self.hnodes, self.inodes))\n",
    "        \n",
    "        self.who = numpy.random.uniform(-1.0, 1.0, (self.onodes, self.hnodes))\n",
    "        self.who = numpy.array(self.who, ndmin=2, dtype='complex128')\n",
    "        self.who += 1j * numpy.random.random((self.onodes, self.hnodes))\n",
    "        \n",
    "        # number of output class categories\n",
    "        self.categories = cats\n",
    "        \n",
    "        # todo periodicity\n",
    "        self.periodicity = periods\n",
    "        pass\n",
    "    \n",
    "    def z_to_class(self, z):\n",
    "        # first work out the angle, but shift angle from [-pi/2, +pi.2] to [0,2pi]\n",
    "        angle = numpy.mod(numpy.angle(z) + 2*numpy.pi, 2*numpy.pi)\n",
    "        # from angle to category\n",
    "        p = int(numpy.floor (self.categories * angle / (2*numpy.pi)))\n",
    "        return p\n",
    "\n",
    "    def class_to_angle(self, p):\n",
    "        # class to angle, using bisector\n",
    "        angle = ((p + 0.5) / self.categories) * 2 * numpy.pi\n",
    "        return angle\n",
    "    \n",
    "    def status(self):\n",
    "        print (\"self.wih = \", self.wih)\n",
    "        print (\"self.who = \", self.who)\n",
    "        pass\n",
    "\n",
    "    def query(self, inputs_list):\n",
    "        # add bias input\n",
    "        inputs_list.append(1.0)\n",
    "        \n",
    "        # convert input to complex\n",
    "        inputs = numpy.array(inputs_list, ndmin=2, dtype='complex128').T\n",
    "        print(\"inputs = \\n\", inputs)\n",
    "        \n",
    "        # signal into hidden layer\n",
    "        hidden_inputs = numpy.dot(self.wih, inputs)\n",
    "        #print(\"hidden_inputs = \", hidden_inputs)\n",
    "        #signal out of hidden layer\n",
    "        hidden_outputs = numpy.exp(1j * numpy.angle(hidden_inputs))\n",
    "        #print(\"hidden_outputs = \", hidden_outputs)\n",
    "        \n",
    "        # signal into final output layer\n",
    "        final_inputs = numpy.dot(self.who, hidden_outputs)\n",
    "        #print(\"final_input = \", final_inputs)\n",
    "        #signal out of output layer\n",
    "        final_outputs = numpy.exp(1j * numpy.angle(final_inputs))\n",
    "        #print(\"final_outputs = \", final_outputs)\n",
    "        \n",
    "        # map to output classes\n",
    "        output_classes = self.z_to_class(final_outputs)\n",
    "        print(\"output_classes = \", output_classes)\n",
    "        return output_classes\n",
    "    \n",
    "    def train(self, inputs_list, target_class_list):\n",
    "        # add bias input\n",
    "        inputs_list.append(1.0)\n",
    "        \n",
    "        # convert input to complex\n",
    "        inputs = numpy.array(inputs_list, ndmin=2, dtype='complex128').T\n",
    "        #print(\"inputs = \\n\", inputs)\n",
    "        \n",
    "        # map target classes to unit circle\n",
    "        targets = numpy.exp(1j * self.class_to_angle(numpy.array(target_class_list, ndmin=2).T))\n",
    "        #print(\"targets = \\n\", targets)\n",
    "\n",
    "        # signal into hidden layer\n",
    "        hidden_inputs = numpy.dot(self.wih, inputs)\n",
    "        #print(\"hidden_inputs = \", hidden_inputs)\n",
    "        #signal out of hidden layer\n",
    "        hidden_outputs = numpy.exp(1j * numpy.angle(hidden_inputs))\n",
    "        #print(\"hidden_outputs = \", hidden_outputs)\n",
    "        \n",
    "        # signal into final output layer\n",
    "        final_inputs = numpy.dot(self.who, hidden_outputs)\n",
    "        #print(\"final_inputs = \", final_inputs)\n",
    "        #signal out of output layer\n",
    "        final_outputs = numpy.exp(1j * numpy.angle(final_inputs))\n",
    "        #print(\"final_outputs = \", final_outputs)\n",
    "        \n",
    "        # output layer error is the (target - actual)\n",
    "        output_errors = targets - final_outputs\n",
    "        #print(\"output_errors = \", output_errors)\n",
    "        # hidden layer error is the output_errors split simply (not by weights)\n",
    "        hidden_errors = numpy.dot(numpy.array(numpy.ones((self.hnodes)), ndmin=2).T / self.hnodes, output_errors)\n",
    "        #print(\"hidden_errors = \", hidden_errors)\n",
    "        \n",
    "        # dw = e * x.T / (x.x.T)\n",
    "        #dwho = (output_errors * numpy.conj(hidden_outputs.T)) / (self.hnodes)\n",
    "        dwho = numpy.dot(output_errors, numpy.conj(hidden_outputs.T)) / (self.hnodes)\n",
    "        #print(\"dwho = \", dwho)\n",
    "        self.who += dwho\n",
    "        \n",
    "        #dwih = (hidden_errors * numpy.conj(inputs.T)) / (self.inodes)\n",
    "        dwih = numpy.dot(hidden_errors, numpy.conj(inputs.T)) / (self.inodes)\n",
    "        #print(\"dwih = \", dwih)\n",
    "        self.wih += dwih        \n",
    "    pass"
   ]
  },
  {
   "cell_type": "code",
   "execution_count": 28,
   "metadata": {
    "collapsed": false
   },
   "outputs": [
    {
     "name": "stdout",
     "output_type": "stream",
     "text": [
      "self.wih =  [[-0.97560880-0.44299654j  0.39673175+0.45313716j -0.36348055-0.42098974j]\n",
      " [-0.78914030+0.38495572j  0.06405584+0.12566801j  0.93014655+0.4663918j ]]\n",
      "self.who =  [[-0.15796713+0.42202923j -0.66723068+0.01251784j]]\n"
     ]
    }
   ],
   "source": [
    "# number of input, hidden and output nodes\n",
    "input_nodes = 2\n",
    "hidden_nodes = 2\n",
    "output_nodes = 1\n",
    "\n",
    "# categories, periodicity\n",
    "categories = 2\n",
    "periodicity = 1\n",
    "\n",
    "# create instance of neural network\n",
    "n = neuralNetwork(input_nodes,hidden_nodes,output_nodes, categories, periodicity)\n",
    "n.status()"
   ]
  },
  {
   "cell_type": "code",
   "execution_count": 29,
   "metadata": {
    "collapsed": false
   },
   "outputs": [],
   "source": [
    "# train neural network - OR\n",
    "\n",
    "epochs = 5\n",
    "\n",
    "for e in range(epochs):\n",
    "    n.train([-1.0, -1.0], [0])\n",
    "    n.train([-1.0, 1.0], [1])\n",
    "    n.train([1.0, -1.0], [1])\n",
    "    n.train([1.0, 1.0], [1])\n",
    "    pass"
   ]
  },
  {
   "cell_type": "code",
   "execution_count": 30,
   "metadata": {
    "collapsed": false
   },
   "outputs": [
    {
     "name": "stdout",
     "output_type": "stream",
     "text": [
      "self.wih =  [[-0.95393264-1.0836447j   0.39135471-1.35898696j -0.32501294-2.01430814j]\n",
      " [-0.76746414-0.25569244j  0.05867880-1.68645611j  0.96861417-1.1269266j ]]\n",
      "self.who =  [[ 1.17035804+0.61847302j -0.13069239-0.41321431j]]\n",
      "inputs = \n",
      " [[-1.+0.j]\n",
      " [-1.+0.j]\n",
      " [ 1.+0.j]]\n",
      "output_classes =  0\n",
      "inputs = \n",
      " [[-1.+0.j]\n",
      " [ 1.+0.j]\n",
      " [ 1.+0.j]]\n",
      "output_classes =  1\n",
      "inputs = \n",
      " [[ 1.+0.j]\n",
      " [-1.+0.j]\n",
      " [ 1.+0.j]]\n",
      "output_classes =  1\n",
      "inputs = \n",
      " [[ 1.+0.j]\n",
      " [ 1.+0.j]\n",
      " [ 1.+0.j]]\n",
      "output_classes =  1\n"
     ]
    },
    {
     "data": {
      "text/plain": [
       "1"
      ]
     },
     "execution_count": 30,
     "metadata": {},
     "output_type": "execute_result"
    }
   ],
   "source": [
    "# query after training\n",
    "n.status()\n",
    "n.query( [-1.0, -1.0] )\n",
    "n.query( [-1.0, 1.0] )\n",
    "n.query( [1.0, -1.0] )\n",
    "n.query( [1.0, 1.0] )"
   ]
  },
  {
   "cell_type": "code",
   "execution_count": null,
   "metadata": {
    "collapsed": false
   },
   "outputs": [],
   "source": []
  },
  {
   "cell_type": "code",
   "execution_count": null,
   "metadata": {
    "collapsed": true
   },
   "outputs": [],
   "source": []
  }
 ],
 "metadata": {
  "kernelspec": {
   "display_name": "Python 3",
   "language": "python",
   "name": "python3"
  },
  "language_info": {
   "codemirror_mode": {
    "name": "ipython",
    "version": 3
   },
   "file_extension": ".py",
   "mimetype": "text/x-python",
   "name": "python",
   "nbconvert_exporter": "python",
   "pygments_lexer": "ipython3",
   "version": "3.5.1"
  }
 },
 "nbformat": 4,
 "nbformat_minor": 0
}
